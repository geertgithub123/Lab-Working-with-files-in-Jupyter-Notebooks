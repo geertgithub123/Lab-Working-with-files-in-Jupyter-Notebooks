{
 "cells": [
  {
   "cell_type": "markdown",
   "id": "79313e1c",
   "metadata": {},
   "source": [
    "*Exercise 2: Create markdown cell with title of the notebook*\n",
    "\n",
    "\n",
    "# Data Science Tools and Ecosystem"
   ]
  },
  {
   "cell_type": "markdown",
   "id": "f3b1fae9",
   "metadata": {},
   "source": [
    "*Exercise 3 - Create a markdown cell for an introduction*\n",
    "\n",
    "\n",
    "\n",
    "In this notebook, Data Science Tools and Ecosystem are summarized.\n"
   ]
  },
  {
   "cell_type": "markdown",
   "id": "dc95d5a3",
   "metadata": {},
   "source": [
    "*Exercise 10 - Insert a markdown cell to list Objectives*\n",
    "\n",
    "**Objectives:**\n",
    "+ List of popular languages for data science\n",
    "+ List of data science tools\n",
    "+ List of data science libraries"
   ]
  },
  {
   "cell_type": "markdown",
   "id": "35c646f5",
   "metadata": {},
   "source": [
    "*Exercise 4 - Create a markdown cell to list data science languages*\n",
    "\n",
    "\n",
    "\n",
    "Some of the popular languages that Data Scientists use are:\n",
    " 1. Python\n",
    " 2. R\n",
    " 3. Julia"
   ]
  },
  {
   "cell_type": "markdown",
   "id": "77448780",
   "metadata": {},
   "source": [
    "*Exercise 5 - Create a markdown cell to list data science libraries*\n",
    "\n",
    "Some of the commonly used libraries used by Data Scientists include:\n",
    "1. NumPy\n",
    "2. Pandas\n",
    "3. Matplotlib\n"
   ]
  },
  {
   "cell_type": "markdown",
   "id": "7f0ffd44",
   "metadata": {},
   "source": [
    "*Exercise 6 - Create a markdown cell with a table of Data Science tools*\n",
    "|Data Science Tools|\n",
    "|-|\n",
    "|Jupyter Notebook|\n",
    "|Visual Studio Code (VS Code)|\n",
    "|RStudio|\n",
    "\n",
    "\n"
   ]
  },
  {
   "cell_type": "markdown",
   "id": "8fb94ca3",
   "metadata": {},
   "source": [
    "*Exercise 7 - Create a markdown cell introducing arithmetic expression examples*\n",
    "### Below are a few examples of evaluating arithmetic expressions in Python"
   ]
  },
  {
   "cell_type": "code",
   "execution_count": 6,
   "id": "4a5c7c4d",
   "metadata": {},
   "outputs": [
    {
     "data": {
      "text/plain": [
       "17"
      ]
     },
     "execution_count": 6,
     "metadata": {},
     "output_type": "execute_result"
    }
   ],
   "source": [
    "#Exercise 8 - Create a code cell to multiply and add numbers\n",
    "\n",
    "#This a simple arithmetic expression to mutiply then add integers\n",
    "(3*4)+5"
   ]
  },
  {
   "cell_type": "code",
   "execution_count": 4,
   "id": "6058578c",
   "metadata": {},
   "outputs": [
    {
     "data": {
      "text/plain": [
       "3.3333333333333335"
      ]
     },
     "execution_count": 4,
     "metadata": {},
     "output_type": "execute_result"
    }
   ],
   "source": [
    "#Exercise 9 - Create a code cell to convert minutes to hours\n",
    "\n",
    "#This will convert 200 minutes to hours by diving by 60\n",
    "200/60"
   ]
  },
  {
   "cell_type": "markdown",
   "id": "4d09d82f",
   "metadata": {},
   "source": [
    "*Exercise 11 - Create a markdown cell to indicate the Author's name*\n",
    "\n",
    "## Author\n",
    "Geert W."
   ]
  },
  {
   "cell_type": "code",
   "execution_count": null,
   "id": "bf6fa164",
   "metadata": {},
   "outputs": [],
   "source": []
  }
 ],
 "metadata": {
  "kernelspec": {
   "display_name": "Python 3 (ipykernel)",
   "language": "python",
   "name": "python3"
  },
  "language_info": {
   "codemirror_mode": {
    "name": "ipython",
    "version": 3
   },
   "file_extension": ".py",
   "mimetype": "text/x-python",
   "name": "python",
   "nbconvert_exporter": "python",
   "pygments_lexer": "ipython3",
   "version": "3.11.4"
  }
 },
 "nbformat": 4,
 "nbformat_minor": 5
}
